{
 "cells": [
  {
   "cell_type": "markdown",
   "metadata": {},
   "source": [
    "<center>\n",
    "<img src=\"img/rag.png\">\n",
    "</center>"
   ]
  },
  {
   "cell_type": "markdown",
   "metadata": {},
   "source": [
    "* Improvement to generation systems because they reduce their hallucinations and improve their factuality.\n",
    "* enable use cases of \"chat with my data\" that consumers and companies can use to ground an LLM on internal company data, or a specific data source of interest.\n",
    "* engines used rag: \n",
    "    * Perplexity.\n",
    "    * Mic Bing AI\n",
    "    * Google Gemini"
   ]
  },
  {
   "cell_type": "markdown",
   "metadata": {},
   "source": [
    "<center>\n",
    "<img src=\"img/rag_schema.png\">\n",
    "<img src=\"img/rag_sc2.png\">\n",
    "</center>"
   ]
  },
  {
   "cell_type": "code",
   "execution_count": 2,
   "metadata": {},
   "outputs": [],
   "source": [
    "import cohere\n",
    "import os"
   ]
  },
  {
   "cell_type": "code",
   "execution_count": 9,
   "metadata": {},
   "outputs": [],
   "source": [
    "api=os.environ[\"COHERE_API\"]\n",
    "co=cohere.Client(api_key=api)"
   ]
  },
  {
   "cell_type": "code",
   "execution_count": 10,
   "metadata": {},
   "outputs": [],
   "source": [
    "text = \"\"\"\n",
    "Interstellar is a 2014 epic science fiction film co-written, directed, and produced by\n",
    "Christopher Nolan.\n",
    "It stars Matthew McConaughey, Anne Hathaway, Jessica Chastain, Bill Irwin, Ellen\n",
    "Burstyn, Matt Damon, and Michael Caine.\n",
    "Set in a dystopian future where humanity is struggling to survive, the film follows a group\n",
    "of astronauts who travel through a wormhole near Saturn in search of a new home for\n",
    "mankind.\n",
    "Brothers Christopher and Jonathan Nolan wrote the screenplay, which had its origins in\n",
    "a script Jonathan developed in 2007.\n",
    "Caltech theoretical physicist and 2017 Nobel laureate in Physics[4] Kip Thorne was an\n",
    "executive producer, acted as a scientific consultant, and wrote a tie-in book, The Science\n",
    "of Interstellar.\n",
    "Cinematographer Hoyte van Hoytema shot it on 35 mm movie film in the Panavision\n",
    "anamorphic format and IMAX 70 mm.\n",
    "Principal photography began in late 2013 and took place in Alberta, Iceland, and Los\n",
    "Angeles.\n",
    "Interstellar uses extensive practical and miniature effects and the company Double\n",
    "Negative created additional digital effects.\n",
    "Interstellar premiered on October 26, 2014, in Los Angeles.\n",
    "In the United States, it was first released on film stock, expanding to venues using digital\n",
    "projectors.\n",
    "The film had a worldwide gross over $677 million (and $773 million with subsequent rereleases),\n",
    "making it the tenth-highest grossing film of 2014.\n",
    "It received acclaim for its performances, direction, screenplay, musical score, visual\n",
    "effects, ambition, themes, and emotional weight.\n",
    "It has also received praise from many astronomers for its scientific accuracy and\n",
    "portrayal of theoretical astrophysics. Since its premiere, Interstellar gained a cult\n",
    "following,[5] and now is regarded by many sci-fi experts as one of the best sciencefiction\n",
    "films of all time.\n",
    "Interstellar was nominated for five awards at the 87th Academy Awards, winning Best\n",
    "Visual Effects, and received numerous other accolades\"\"\""
   ]
  },
  {
   "cell_type": "code",
   "execution_count": null,
   "metadata": {},
   "outputs": [],
   "source": []
  }
 ],
 "metadata": {
  "kernelspec": {
   "display_name": "base",
   "language": "python",
   "name": "python3"
  },
  "language_info": {
   "codemirror_mode": {
    "name": "ipython",
    "version": 3
   },
   "file_extension": ".py",
   "mimetype": "text/x-python",
   "name": "python",
   "nbconvert_exporter": "python",
   "pygments_lexer": "ipython3",
   "version": "3.10.13"
  }
 },
 "nbformat": 4,
 "nbformat_minor": 2
}
