{
 "cells": [
  {
   "cell_type": "markdown",
   "metadata": {},
   "source": [
    "* **Semantic Search** enables search by meaning, and not simply keyword matching."
   ]
  },
  {
   "cell_type": "code",
   "execution_count": 7,
   "metadata": {},
   "outputs": [],
   "source": [
    "import pandas as pd\n",
    "import numpy as np\n",
    "from tqdm import tqdm\n",
    "import os"
   ]
  },
  {
   "cell_type": "code",
   "execution_count": 2,
   "metadata": {},
   "outputs": [
    {
     "name": "stderr",
     "output_type": "stream",
     "text": [
      "/Users/eier/anaconda3/lib/python3.10/site-packages/threadpoolctl.py:1214: RuntimeWarning: \n",
      "Found Intel OpenMP ('libiomp') and LLVM OpenMP ('libomp') loaded at\n",
      "the same time. Both libraries are known to be incompatible and this\n",
      "can cause random crashes or deadlocks on Linux when loaded in the\n",
      "same Python program.\n",
      "Using threadpoolctl may cause crashes or deadlocks. For more\n",
      "information and possible workarounds, please see\n",
      "    https://github.com/joblib/threadpoolctl/blob/master/multiple_openmp.md\n",
      "\n",
      "  warnings.warn(msg, RuntimeWarning)\n"
     ]
    }
   ],
   "source": [
    "from sentence_transformers import SentenceTransformer"
   ]
  },
  {
   "cell_type": "markdown",
   "metadata": {},
   "source": [
    "# Dense Retrieval"
   ]
  },
  {
   "cell_type": "markdown",
   "metadata": {},
   "source": [
    "<center><img src=\"img/dense.png\"></center>"
   ]
  },
  {
   "cell_type": "code",
   "execution_count": 13,
   "metadata": {},
   "outputs": [],
   "source": [
    "import cohere\n",
    "api_key=os.environ[\"COHERE_API\"]\n",
    "co=cohere.Client(api_key)"
   ]
  },
  {
   "cell_type": "code",
   "execution_count": 14,
   "metadata": {},
   "outputs": [],
   "source": [
    "text = \"\"\"\n",
    "Interstellar is a 2014 epic science fiction film co-written, directed, and produced by\n",
    "Christopher Nolan.\n",
    "It stars Matthew McConaughey, Anne Hathaway, Jessica Chastain, Bill Irwin, Ellen\n",
    "Burstyn, Matt Damon, and Michael Caine.\n",
    "Set in a dystopian future where humanity is struggling to survive, the film follows a group\n",
    "of astronauts who travel through a wormhole near Saturn in search of a new home for\n",
    "mankind.\n",
    "Brothers Christopher and Jonathan Nolan wrote the screenplay, which had its origins in\n",
    "a script Jonathan developed in 2007.\n",
    "Caltech theoretical physicist and 2017 Nobel laureate in Physics[4] Kip Thorne was an\n",
    "executive producer, acted as a scientific consultant, and wrote a tie-in book, The Science\n",
    "of Interstellar.\n",
    "Cinematographer Hoyte van Hoytema shot it on 35 mm movie film in the Panavision\n",
    "anamorphic format and IMAX 70 mm.\n",
    "Principal photography began in late 2013 and took place in Alberta, Iceland, and Los\n",
    "Angeles.\n",
    "Interstellar uses extensive practical and miniature effects and the company Double\n",
    "Negative created additional digital effects.\n",
    "Interstellar premiered on October 26, 2014, in Los Angeles.\n",
    "In the United States, it was first released on film stock, expanding to venues using digital\n",
    "projectors.\n",
    "The film had a worldwide gross over $677 million (and $773 million with subsequent rereleases),\n",
    "making it the tenth-highest grossing film of 2014.\n",
    "It received acclaim for its performances, direction, screenplay, musical score, visual\n",
    "effects, ambition, themes, and emotional weight.\n",
    "It has also received praise from many astronomers for its scientific accuracy and\n",
    "portrayal of theoretical astrophysics. Since its premiere, Interstellar gained a cult\n",
    "following,[5] and now is regarded by many sci-fi experts as one of the best sciencefiction\n",
    "films of all time.\n",
    "Interstellar was nominated for five awards at the 87th Academy Awards, winning Best\n",
    "Visual Effects, and received numerous other accolades\"\"\""
   ]
  },
  {
   "cell_type": "code",
   "execution_count": 15,
   "metadata": {},
   "outputs": [
    {
     "data": {
      "text/plain": [
       "['\\nInterstellar is a 2014 epic science fiction film co-written, directed, and produced by\\nChristopher Nolan',\n",
       " '\\nIt stars Matthew McConaughey, Anne Hathaway, Jessica Chastain, Bill Irwin, Ellen\\nBurstyn, Matt Damon, and Michael Caine',\n",
       " '\\nSet in a dystopian future where humanity is struggling to survive, the film follows a group\\nof astronauts who travel through a wormhole near Saturn in search of a new home for\\nmankind',\n",
       " '\\nBrothers Christopher and Jonathan Nolan wrote the screenplay, which had its origins in\\na script Jonathan developed in 2007',\n",
       " '\\nCaltech theoretical physicist and 2017 Nobel laureate in Physics[4] Kip Thorne was an\\nexecutive producer, acted as a scientific consultant, and wrote a tie-in book, The Science\\nof Interstellar',\n",
       " '\\nCinematographer Hoyte van Hoytema shot it on 35 mm movie film in the Panavision\\nanamorphic format and IMAX 70 mm',\n",
       " '\\nPrincipal photography began in late 2013 and took place in Alberta, Iceland, and Los\\nAngeles',\n",
       " '\\nInterstellar uses extensive practical and miniature effects and the company Double\\nNegative created additional digital effects',\n",
       " '\\nInterstellar premiered on October 26, 2014, in Los Angeles',\n",
       " '\\nIn the United States, it was first released on film stock, expanding to venues using digital\\nprojectors',\n",
       " '\\nThe film had a worldwide gross over $677 million (and $773 million with subsequent rereleases),\\nmaking it the tenth-highest grossing film of 2014',\n",
       " '\\nIt received acclaim for its performances, direction, screenplay, musical score, visual\\neffects, ambition, themes, and emotional weight',\n",
       " '\\nIt has also received praise from many astronomers for its scientific accuracy and\\nportrayal of theoretical astrophysics',\n",
       " ' Since its premiere, Interstellar gained a cult\\nfollowing,[5] and now is regarded by many sci-fi experts as one of the best sciencefiction\\nfilms of all time',\n",
       " '\\nInterstellar was nominated for five awards at the 87th Academy Awards, winning Best\\nVisual Effects, and received numerous other accolades']"
      ]
     },
     "execution_count": 15,
     "metadata": {},
     "output_type": "execute_result"
    }
   ],
   "source": [
    "chunks=text.split(\".\")\n",
    "chunks"
   ]
  },
  {
   "cell_type": "code",
   "execution_count": 19,
   "metadata": {},
   "outputs": [
    {
     "data": {
      "text/plain": [
       "['Interstellar is a 2014 epic science fiction film co-written, directed, and produced by\\nChristopher Nolan',\n",
       " 'It stars Matthew McConaughey, Anne Hathaway, Jessica Chastain, Bill Irwin, Ellen\\nBurstyn, Matt Damon, and Michael Caine',\n",
       " 'Set in a dystopian future where humanity is struggling to survive, the film follows a group\\nof astronauts who travel through a wormhole near Saturn in search of a new home for\\nmankind',\n",
       " 'Brothers Christopher and Jonathan Nolan wrote the screenplay, which had its origins in\\na script Jonathan developed in 2007',\n",
       " 'Caltech theoretical physicist and 2017 Nobel laureate in Physics[4] Kip Thorne was an\\nexecutive producer, acted as a scientific consultant, and wrote a tie-in book, The Science\\nof Interstellar',\n",
       " 'Cinematographer Hoyte van Hoytema shot it on 35 mm movie film in the Panavision\\nanamorphic format and IMAX 70 mm',\n",
       " 'Principal photography began in late 2013 and took place in Alberta, Iceland, and Los\\nAngeles',\n",
       " 'Interstellar uses extensive practical and miniature effects and the company Double\\nNegative created additional digital effects',\n",
       " 'Interstellar premiered on October 26, 2014, in Los Angeles',\n",
       " 'In the United States, it was first released on film stock, expanding to venues using digital\\nprojectors',\n",
       " 'The film had a worldwide gross over $677 million (and $773 million with subsequent rereleases),\\nmaking it the tenth-highest grossing film of 2014',\n",
       " 'It received acclaim for its performances, direction, screenplay, musical score, visual\\neffects, ambition, themes, and emotional weight',\n",
       " 'It has also received praise from many astronomers for its scientific accuracy and\\nportrayal of theoretical astrophysics',\n",
       " ' Since its premiere, Interstellar gained a cult\\nfollowing,[5] and now is regarded by many sci-fi experts as one of the best sciencefiction\\nfilms of all time',\n",
       " 'Interstellar was nominated for five awards at the 87th Academy Awards, winning Best\\nVisual Effects, and received numerous other accolades']"
      ]
     },
     "execution_count": 19,
     "metadata": {},
     "output_type": "execute_result"
    }
   ],
   "source": [
    "chunks=list(map(lambda x: x.strip(\"\\n\"),chunks))\n",
    "chunks"
   ]
  },
  {
   "cell_type": "code",
   "execution_count": 20,
   "metadata": {},
   "outputs": [
    {
     "name": "stdout",
     "output_type": "stream",
     "text": [
      "(15, 4096)\n"
     ]
    }
   ],
   "source": [
    "# embedding chunks with cohere\n",
    "response=co.embed(\n",
    "    texts=chunks,\n",
    "    input_type=\"search_document\",\n",
    ").embeddings\n",
    "embeds=np.array(response)\n",
    "print(embeds.shape)"
   ]
  },
  {
   "cell_type": "code",
   "execution_count": 24,
   "metadata": {},
   "outputs": [
    {
     "name": "stdout",
     "output_type": "stream",
     "text": [
      "True\n"
     ]
    }
   ],
   "source": [
    "import faiss \n",
    "index=faiss.IndexFlatL2(embeds.shape[1])\n",
    "print(index.is_trained)"
   ]
  },
  {
   "cell_type": "code",
   "execution_count": 25,
   "metadata": {},
   "outputs": [],
   "source": [
    "index.add(np.float32(embeds))"
   ]
  },
  {
   "cell_type": "code",
   "execution_count": 30,
   "metadata": {},
   "outputs": [],
   "source": [
    "def search_top_k(query,top_k=3):\n",
    "    q_embed=co.embed(\n",
    "        texts=[query],\n",
    "        input_type=\"search_query\"\n",
    "    ).embeddings[0]\n",
    "    distances,ids=index.search(np.float32([q_embed]),top_k)\n",
    "    chunks_np=np.array(chunks)\n",
    "    results=pd.DataFrame({\n",
    "        \"texts\":chunks_np[ids[0]],\n",
    "        \"dists\":distances[0]\n",
    "    })\n",
    "    return results"
   ]
  },
  {
   "cell_type": "code",
   "execution_count": 31,
   "metadata": {},
   "outputs": [
    {
     "data": {
      "text/html": [
       "<div>\n",
       "<style scoped>\n",
       "    .dataframe tbody tr th:only-of-type {\n",
       "        vertical-align: middle;\n",
       "    }\n",
       "\n",
       "    .dataframe tbody tr th {\n",
       "        vertical-align: top;\n",
       "    }\n",
       "\n",
       "    .dataframe thead th {\n",
       "        text-align: right;\n",
       "    }\n",
       "</style>\n",
       "<table border=\"1\" class=\"dataframe\">\n",
       "  <thead>\n",
       "    <tr style=\"text-align: right;\">\n",
       "      <th></th>\n",
       "      <th>texts</th>\n",
       "      <th>dists</th>\n",
       "    </tr>\n",
       "  </thead>\n",
       "  <tbody>\n",
       "    <tr>\n",
       "      <th>0</th>\n",
       "      <td>It has also received praise from many astronom...</td>\n",
       "      <td>11104.859375</td>\n",
       "    </tr>\n",
       "    <tr>\n",
       "      <th>1</th>\n",
       "      <td>Interstellar uses extensive practical and mini...</td>\n",
       "      <td>11975.107422</td>\n",
       "    </tr>\n",
       "    <tr>\n",
       "      <th>2</th>\n",
       "      <td>Caltech theoretical physicist and 2017 Nobel l...</td>\n",
       "      <td>12704.984375</td>\n",
       "    </tr>\n",
       "  </tbody>\n",
       "</table>\n",
       "</div>"
      ],
      "text/plain": [
       "                                               texts         dists\n",
       "0  It has also received praise from many astronom...  11104.859375\n",
       "1  Interstellar uses extensive practical and mini...  11975.107422\n",
       "2  Caltech theoretical physicist and 2017 Nobel l...  12704.984375"
      ]
     },
     "execution_count": 31,
     "metadata": {},
     "output_type": "execute_result"
    }
   ],
   "source": [
    "query=\"how precise was the science\"\n",
    "results=search_top_k(query)\n",
    "results"
   ]
  },
  {
   "cell_type": "markdown",
   "metadata": {},
   "source": [
    "## Chunking Long Text"
   ]
  },
  {
   "cell_type": "markdown",
   "metadata": {},
   "source": [
    "<center>\n",
    "<img src=\"img/chunking.png\">\n",
    "<img src=\"img/chunk_app.png\">\n",
    "</center>"
   ]
  },
  {
   "cell_type": "markdown",
   "metadata": {},
   "source": [
    "- A vector database allows you to add or delete vectors without having to rebuild the index"
   ]
  },
  {
   "cell_type": "markdown",
   "metadata": {},
   "source": [
    "# Reranking"
   ]
  },
  {
   "cell_type": "markdown",
   "metadata": {},
   "source": [
    "<center>\n",
    "    <img src=\"img/rerank_pipe.png\">\n",
    "</center>"
   ]
  },
  {
   "cell_type": "code",
   "execution_count": 33,
   "metadata": {},
   "outputs": [
    {
     "data": {
      "text/plain": [
       "RerankResponse(id='21d24bf7-3a3a-410e-b568-3910b5e06bee', results=[RerankResponseResultsItem(document=RerankResponseResultsItemDocument(text='It has also received praise from many astronomers for its scientific accuracy and\\nportrayal of theoretical astrophysics'), index=12, relevance_score=0.16981852), RerankResponseResultsItem(document=RerankResponseResultsItemDocument(text='The film had a worldwide gross over $677 million (and $773 million with subsequent rereleases),\\nmaking it the tenth-highest grossing film of 2014'), index=10, relevance_score=0.07030385), RerankResponseResultsItem(document=RerankResponseResultsItemDocument(text='Caltech theoretical physicist and 2017 Nobel laureate in Physics[4] Kip Thorne was an\\nexecutive producer, acted as a scientific consultant, and wrote a tie-in book, The Science\\nof Interstellar'), index=4, relevance_score=0.0043994132)], meta=ApiMeta(api_version=ApiMetaApiVersion(version='1', is_deprecated=None, is_experimental=None), billed_units=ApiMetaBilledUnits(input_tokens=None, output_tokens=None, search_units=1, classifications=None), tokens=None, warnings=['N/A']))"
      ]
     },
     "execution_count": 33,
     "metadata": {},
     "output_type": "execute_result"
    }
   ],
   "source": [
    "results=co.rerank(\n",
    "    query=query,documents=chunks,top_n=3,return_documents=True\n",
    ")\n",
    "results"
   ]
  },
  {
   "cell_type": "code",
   "execution_count": 36,
   "metadata": {},
   "outputs": [
    {
     "name": "stdout",
     "output_type": "stream",
     "text": [
      "It has also received praise from many astronomers for its scientific accuracy and\n",
      "portrayal of theoretical astrophysics 0.16981852\n",
      "The film had a worldwide gross over $677 million (and $773 million with subsequent rereleases),\n",
      "making it the tenth-highest grossing film of 2014 0.07030385\n",
      "Caltech theoretical physicist and 2017 Nobel laureate in Physics[4] Kip Thorne was an\n",
      "executive producer, acted as a scientific consultant, and wrote a tie-in book, The Science\n",
      "of Interstellar 0.0043994132\n"
     ]
    }
   ],
   "source": [
    "for result in results.results:\n",
    "    print(result.document.text,result.relevance_score)"
   ]
  },
  {
   "cell_type": "markdown",
   "metadata": {},
   "source": [
    "<center>\n",
    "    <img src=\"img/rerank_schema.png\">\n",
    "</center>"
   ]
  },
  {
   "cell_type": "code",
   "execution_count": null,
   "metadata": {},
   "outputs": [],
   "source": []
  }
 ],
 "metadata": {
  "kernelspec": {
   "display_name": "base",
   "language": "python",
   "name": "python3"
  },
  "language_info": {
   "codemirror_mode": {
    "name": "ipython",
    "version": 3
   },
   "file_extension": ".py",
   "mimetype": "text/x-python",
   "name": "python",
   "nbconvert_exporter": "python",
   "pygments_lexer": "ipython3",
   "version": "3.10.13"
  }
 },
 "nbformat": 4,
 "nbformat_minor": 2
}
